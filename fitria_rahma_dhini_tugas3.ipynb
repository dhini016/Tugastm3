{
  "cells": [
    {
      "cell_type": "markdown",
      "metadata": {
        "id": "view-in-github",
        "colab_type": "text"
      },
      "source": [
        "<a href=\"https://colab.research.google.com/github/dhini016/Tugastm3/blob/main/fitria_rahma_dhini_tugas3.ipynb\" target=\"_parent\"><img src=\"https://colab.research.google.com/assets/colab-badge.svg\" alt=\"Open In Colab\"/></a>"
      ]
    },
    {
      "cell_type": "code",
      "execution_count": null,
      "metadata": {
        "colab": {
          "base_uri": "https://localhost:8080/"
        },
        "id": "H8D3_b1aOFA-",
        "outputId": "eb4e7901-cd70-4ddc-cb90-eeb01ff47b34"
      },
      "outputs": [
        {
          "name": "stdout",
          "output_type": "stream",
          "text": [
            "Downloading chest-xray-pneumonia, 2463365435 bytes compressed\n",
            "[================================                  ] 1619927040 bytes downloaded"
          ]
        }
      ],
      "source": [
        "\n",
        "# IMPORTANT: RUN THIS CELL IN ORDER TO IMPORT YOUR KAGGLE DATA SOURCES\n",
        "# TO THE CORRECT LOCATION (/kaggle/input) IN YOUR NOTEBOOK,\n",
        "# THEN FEEL FREE TO DELETE THIS CELL.\n",
        "# NOTE: THIS NOTEBOOK ENVIRONMENT DIFFERS FROM KAGGLE'S PYTHON\n",
        "# ENVIRONMENT SO THERE MAY BE MISSING LIBRARIES USED BY YOUR\n",
        "# NOTEBOOK.\n",
        "\n",
        "import os\n",
        "import sys\n",
        "from tempfile import NamedTemporaryFile\n",
        "from urllib.request import urlopen\n",
        "from urllib.parse import unquote, urlparse\n",
        "from urllib.error import HTTPError\n",
        "from zipfile import ZipFile\n",
        "import tarfile\n",
        "import shutil\n",
        "\n",
        "CHUNK_SIZE = 40960\n",
        "DATA_SOURCE_MAPPING = 'chest-xray-pneumonia:https%3A%2F%2Fstorage.googleapis.com%2Fkaggle-data-sets%2F17810%2F23812%2Fbundle%2Farchive.zip%3FX-Goog-Algorithm%3DGOOG4-RSA-SHA256%26X-Goog-Credential%3Dgcp-kaggle-com%2540kaggle-161607.iam.gserviceaccount.com%252F20240503%252Fauto%252Fstorage%252Fgoog4_request%26X-Goog-Date%3D20240503T065050Z%26X-Goog-Expires%3D259200%26X-Goog-SignedHeaders%3Dhost%26X-Goog-Signature%3D994b8c9ec2ca44c0098caa843280af5b920664942f2ef99e9c5dd00ac002df2fa54be915152819baee5e5f3d4e8405545696bbc7018c9b576f9ef9ffc557f8318d3dedcc75b9b2ba8c77994d3f55e1abd2e8b0179bea30926d1426c27afdd6969e796c9fc29b5e2b3e36f2688ce4c9c6d35603d692f0ae9c1c9b8a0284e1fe6e5e94ef56bb453fae0d755764a56ebe1c1a4b2f6d4a6b10795508febd4fef3fa5f16983043fd064d3fe6bfd9a7d9abeeb9076d283beeb6b172536b80f1a55cc82669dc1cda2c3c62b091f5f07c611ffc92d28467f4d5e10a87c71ef7550ca3b2b5f9d4256a105005d850aabcee31effa74e0bb468d61d4d9ed74f7c08bbdd1743'\n",
        "\n",
        "KAGGLE_INPUT_PATH='/kaggle/input'\n",
        "KAGGLE_WORKING_PATH='/kaggle/working'\n",
        "KAGGLE_SYMLINK='kaggle'\n",
        "\n",
        "!umount /kaggle/input/ 2> /dev/null\n",
        "shutil.rmtree('/kaggle/input', ignore_errors=True)\n",
        "os.makedirs(KAGGLE_INPUT_PATH, 0o777, exist_ok=True)\n",
        "os.makedirs(KAGGLE_WORKING_PATH, 0o777, exist_ok=True)\n",
        "\n",
        "try:\n",
        "  os.symlink(KAGGLE_INPUT_PATH, os.path.join(\"..\", 'input'), target_is_directory=True)\n",
        "except FileExistsError:\n",
        "  pass\n",
        "try:\n",
        "  os.symlink(KAGGLE_WORKING_PATH, os.path.join(\"..\", 'working'), target_is_directory=True)\n",
        "except FileExistsError:\n",
        "  pass\n",
        "\n",
        "for data_source_mapping in DATA_SOURCE_MAPPING.split(','):\n",
        "    directory, download_url_encoded = data_source_mapping.split(':')\n",
        "    download_url = unquote(download_url_encoded)\n",
        "    filename = urlparse(download_url).path\n",
        "    destination_path = os.path.join(KAGGLE_INPUT_PATH, directory)\n",
        "    try:\n",
        "        with urlopen(download_url) as fileres, NamedTemporaryFile() as tfile:\n",
        "            total_length = fileres.headers['content-length']\n",
        "            print(f'Downloading {directory}, {total_length} bytes compressed')\n",
        "            dl = 0\n",
        "            data = fileres.read(CHUNK_SIZE)\n",
        "            while len(data) > 0:\n",
        "                dl += len(data)\n",
        "                tfile.write(data)\n",
        "                done = int(50 * dl / int(total_length))\n",
        "                sys.stdout.write(f\"\\r[{'=' * done}{' ' * (50-done)}] {dl} bytes downloaded\")\n",
        "                sys.stdout.flush()\n",
        "                data = fileres.read(CHUNK_SIZE)\n",
        "            if filename.endswith('.zip'):\n",
        "              with ZipFile(tfile) as zfile:\n",
        "                zfile.extractall(destination_path)\n",
        "            else:\n",
        "              with tarfile.open(tfile.name) as tarfile:\n",
        "                tarfile.extractall(destination_path)\n",
        "            print(f'\\nDownloaded and uncompressed: {directory}')\n",
        "    except HTTPError as e:\n",
        "        print(f'Failed to load (likely expired) {download_url} to path {destination_path}')\n",
        "        continue\n",
        "    except OSError as e:\n",
        "        print(f'Failed to load {download_url} to path {destination_path}')\n",
        "        continue\n",
        "\n",
        "print('Data source import complete.')\n"
      ]
    },
    {
      "cell_type": "code",
      "execution_count": null,
      "metadata": {
        "_cell_guid": "b1076dfc-b9ad-4769-8c92-a6c4dae69d19",
        "_uuid": "8f2839f25d086af736a60e9eeb907d3b93b6e0e5",
        "execution": {
          "iopub.execute_input": "2024-04-29T18:13:35.266603Z",
          "iopub.status.busy": "2024-04-29T18:13:35.265481Z",
          "iopub.status.idle": "2024-04-29T18:13:49.441222Z",
          "shell.execute_reply": "2024-04-29T18:13:49.439982Z",
          "shell.execute_reply.started": "2024-04-29T18:13:35.26655Z"
        },
        "id": "TbmqXGdpOFBD",
        "trusted": true
      },
      "outputs": [],
      "source": [
        "import os\n",
        "import itertools\n",
        "from PIL import Image\n",
        "\n",
        "import numpy as np\n",
        "import pandas as pd\n",
        "from matplotlib import pyplot as plt\n",
        "import seaborn as sns\n",
        "from sklearn.model_selection import train_test_split\n",
        "from sklearn.metrics import confusion_matrix ,classification_report\n",
        "\n",
        "import tensorflow as tf\n",
        "from tensorflow import keras\n",
        "from tensorflow.keras.models import Sequential\n",
        "from tensorflow.keras.optimizers import Adam, Adamax\n",
        "from tensorflow.keras.layers import Dense ,Conv2D , Dropout,Flatten ,MaxPooling2D ,BatchNormalization\n",
        "from tensorflow.keras.preprocessing.image import ImageDataGenerator\n",
        "\n",
        "import warnings\n",
        "warnings.filterwarnings(\"ignore\")\n",
        "\n",
        "\n",
        "print(\"modules loaded\")"
      ]
    },
    {
      "cell_type": "code",
      "execution_count": null,
      "metadata": {
        "execution": {
          "iopub.execute_input": "2024-04-29T18:13:49.444559Z",
          "iopub.status.busy": "2024-04-29T18:13:49.443562Z",
          "iopub.status.idle": "2024-04-29T18:13:49.60188Z",
          "shell.execute_reply": "2024-04-29T18:13:49.600886Z",
          "shell.execute_reply.started": "2024-04-29T18:13:49.444526Z"
        },
        "id": "Cfd00-HTOFBE",
        "trusted": true
      },
      "outputs": [],
      "source": [
        "test_path=\"/kaggle/input/chest-xray-pneumonia/chest_xray/test/\"\n",
        "image_pathes=[]\n",
        "labels=[]\n",
        "files=os.listdir(test_path)\n",
        "for file in files:\n",
        "    file_bath=os.path.join(test_path,file)\n",
        "    images=os.listdir(file_bath)\n",
        "    for image in images:\n",
        "        image_bath=os.path.join(file_bath , image)\n",
        "        image_pathes.append(image_bath)\n",
        "        labels.append(file)\n",
        "\n",
        "Fseries =pd.Series(image_pathes,name=\"image_pathes\")\n",
        "lseries=pd.Series(labels,name=\"labels\")\n",
        "\n",
        "test_df=pd.concat([Fseries,lseries],axis=1)\n"
      ]
    },
    {
      "cell_type": "code",
      "execution_count": null,
      "metadata": {
        "execution": {
          "iopub.execute_input": "2024-04-29T18:13:49.603894Z",
          "iopub.status.busy": "2024-04-29T18:13:49.603506Z",
          "iopub.status.idle": "2024-04-29T18:13:50.00846Z",
          "shell.execute_reply": "2024-04-29T18:13:50.007668Z",
          "shell.execute_reply.started": "2024-04-29T18:13:49.60386Z"
        },
        "id": "TYp62irNOFBE",
        "trusted": true
      },
      "outputs": [],
      "source": [
        "train_path=\"/kaggle/input/chest-xray-pneumonia/chest_xray/train/\"\n",
        "image_pathes=[]\n",
        "labels=[]\n",
        "\n",
        "files=os.listdir(train_path)\n",
        "for file in files:\n",
        "    file_path=os.path.join(train_path,file)\n",
        "    images=os.listdir(file_path)\n",
        "    for image in images:\n",
        "        image_path=os.path.join(file_path,image)\n",
        "        image_pathes.append(image_path)\n",
        "        labels.append(file)\n",
        "\n",
        "fseries=pd.Series(image_pathes, name=\"image_pathes\")\n",
        "lseries=pd.Series(labels,name=\"labels\")\n",
        "train_df=pd.concat([fseries,lseries],axis=1)\n"
      ]
    },
    {
      "cell_type": "code",
      "execution_count": null,
      "metadata": {
        "execution": {
          "iopub.execute_input": "2024-04-29T18:13:50.01083Z",
          "iopub.status.busy": "2024-04-29T18:13:50.010528Z",
          "iopub.status.idle": "2024-04-29T18:13:50.037839Z",
          "shell.execute_reply": "2024-04-29T18:13:50.036953Z",
          "shell.execute_reply.started": "2024-04-29T18:13:50.010805Z"
        },
        "id": "ul2OMxA8OFBF",
        "trusted": true
      },
      "outputs": [],
      "source": [
        "val_path=\"/kaggle/input/chest-xray-pneumonia/chest_xray/val/\"\n",
        "image_pathes=[]\n",
        "labels=[]\n",
        "\n",
        "files=os.listdir(val_path)\n",
        "for file in files:\n",
        "    file_path=os.path.join(train_path,file)\n",
        "    images=os.listdir(file_path)\n",
        "    for image in images:\n",
        "        image_path=os.path.join(file_path,image)\n",
        "        image_pathes.append(image_path)\n",
        "        labels.append(file)\n",
        "\n",
        "fseries=pd.Series(image_pathes, name=\"image_pathes\")\n",
        "lseries=pd.Series(labels,name=\"labels\")\n",
        "valid_df=pd.concat([fseries,lseries],axis=1)"
      ]
    },
    {
      "cell_type": "code",
      "execution_count": null,
      "metadata": {
        "execution": {
          "iopub.execute_input": "2024-04-29T18:13:50.039237Z",
          "iopub.status.busy": "2024-04-29T18:13:50.038954Z",
          "iopub.status.idle": "2024-04-29T18:13:58.810561Z",
          "shell.execute_reply": "2024-04-29T18:13:58.809818Z",
          "shell.execute_reply.started": "2024-04-29T18:13:50.039213Z"
        },
        "id": "R1Hp4NN6OFBG",
        "trusted": true
      },
      "outputs": [],
      "source": [
        "batsh_size=16\n",
        "image_size=(224,224)\n",
        "\n",
        "df_gen=ImageDataGenerator()\n",
        "\n",
        "train_gen=df_gen.flow_from_dataframe(train_df,x_col=\"image_pathes\",y_col=\"labels\",batsh_size=batsh_size,\n",
        "                           target_size=image_size,class_mode=\"categorical\" ,color_mode=\"rgb\",shuffle=True )\n",
        "test_gen=df_gen.flow_from_dataframe(test_df,x_col=\"image_pathes\",y_col=\"labels\",target_size=image_size\n",
        "                                    ,batsh_size=batsh_size ,shuffle=True ,color_mode=\"rgb\",class_mode=\"categorical\")\n",
        "valid_gen=df_gen.flow_from_dataframe(valid_df,x_col=\"image_pathes\",y_col=\"labels\",target_size=image_size\n",
        "                                    ,batsh_size=batsh_size , shuffle=True ,color_mode=\"rgb\" ,class_mode=\"categorical\")"
      ]
    },
    {
      "cell_type": "code",
      "execution_count": null,
      "metadata": {
        "execution": {
          "iopub.execute_input": "2024-04-29T18:13:58.81184Z",
          "iopub.status.busy": "2024-04-29T18:13:58.811563Z",
          "iopub.status.idle": "2024-04-29T18:14:02.39261Z",
          "shell.execute_reply": "2024-04-29T18:14:02.391058Z",
          "shell.execute_reply.started": "2024-04-29T18:13:58.811816Z"
        },
        "id": "xyQH_kGsOFBH",
        "trusted": true
      },
      "outputs": [],
      "source": [
        "g_dict = train_gen.class_indices      # defines dictionary {'class': index}\n",
        "classes = list(g_dict.keys())       # defines list of dictionary's kays (classes), classes names : string\n",
        "images, labels = next(train_gen)      # get a batch size samples from the generator\n",
        "# # difference between next iterator and for iterator\n",
        "\n",
        "\n",
        "plt.figure(figsize= (20, 20))\n",
        "\n",
        "for i in range(16):\n",
        "    plt.subplot(4,4, i + 1)\n",
        "    image = images[i] / 255       # scales data to range (0 - 255)\n",
        "    plt.imshow(image)\n",
        "    index = np.argmax(labels[i])  # get image index\n",
        "    class_name = classes[index]   # get class of image\n",
        "    plt.title(class_name, color= 'blue', fontsize= 12)\n",
        "    plt.axis('off')\n",
        "plt.tight_layout()\n",
        "plt.show()\n",
        "\n"
      ]
    },
    {
      "cell_type": "code",
      "execution_count": null,
      "metadata": {
        "execution": {
          "iopub.execute_input": "2024-04-29T18:14:02.394731Z",
          "iopub.status.busy": "2024-04-29T18:14:02.394407Z",
          "iopub.status.idle": "2024-04-29T18:14:03.31008Z",
          "shell.execute_reply": "2024-04-29T18:14:03.309214Z",
          "shell.execute_reply.started": "2024-04-29T18:14:02.394704Z"
        },
        "id": "JwVLgtaDOFBH",
        "trusted": true
      },
      "outputs": [],
      "source": [
        "img_size = (224, 224)\n",
        "channels = 3\n",
        "img_shape = (img_size[0], img_size[1], channels)\n",
        "\n",
        "class_count = len(list(train_gen.class_indices.keys())) # to define number of classes in dense layer\n",
        "\n",
        "model = Sequential([\n",
        "    Conv2D(filters=64, kernel_size=(3,3), padding=\"same\", activation=\"relu\", input_shape= img_shape),\n",
        "    BatchNormalization(),\n",
        "    Conv2D(filters=64, kernel_size=(3,3), padding=\"same\", activation=\"relu\"),\n",
        "    BatchNormalization(),\n",
        "    MaxPooling2D((2, 2)),\n",
        "\n",
        "    Conv2D(filters=128, kernel_size=(3,3), padding=\"same\", activation=\"relu\"),\n",
        "    BatchNormalization(),\n",
        "    Conv2D(filters=128, kernel_size=(3,3), padding=\"same\", activation=\"relu\"),\n",
        "    BatchNormalization(),\n",
        "    MaxPooling2D((2, 2)),\n",
        "\n",
        "    Conv2D(filters=256, kernel_size=(3,3), padding=\"same\", activation=\"relu\"),\n",
        "    BatchNormalization(),\n",
        "    Conv2D(filters=256, kernel_size=(3,3), padding=\"same\", activation=\"relu\"),\n",
        "    BatchNormalization(),\n",
        "    Conv2D(filters=256, kernel_size=(3,3), padding=\"same\", activation=\"relu\"),\n",
        "    BatchNormalization(),\n",
        "    MaxPooling2D((2, 2)),\n",
        "\n",
        "    Conv2D(filters=512, kernel_size=(3,3), padding=\"same\", activation=\"relu\"),\n",
        "    BatchNormalization(),\n",
        "    Conv2D(filters=512, kernel_size=(3,3), padding=\"same\", activation=\"relu\"),\n",
        "    BatchNormalization(),\n",
        "    Conv2D(filters=512, kernel_size=(3,3), padding=\"same\", activation=\"relu\"),\n",
        "    BatchNormalization(),\n",
        "    MaxPooling2D((2, 2)),\n",
        "\n",
        "    Flatten(),\n",
        "    Dropout(0.2),\n",
        "\n",
        "    Dense(256,activation = \"relu\"),\n",
        "    Dropout(0.2),\n",
        "    Dense(64,activation = \"relu\"),\n",
        "    Dropout(0.2),\n",
        "    Dense(64,activation = \"relu\"),\n",
        "    Dropout(0.2),\n",
        "    Dense(class_count, activation = \"softmax\")\n",
        "])\n",
        "\n",
        "model.compile(Adamax(learning_rate= 0.001), loss= 'categorical_crossentropy', metrics= ['accuracy'])\n",
        "\n",
        "model.summary()"
      ]
    },
    {
      "cell_type": "code",
      "execution_count": null,
      "metadata": {
        "execution": {
          "iopub.execute_input": "2024-04-29T18:14:03.311461Z",
          "iopub.status.busy": "2024-04-29T18:14:03.311187Z",
          "iopub.status.idle": "2024-04-29T18:27:31.908468Z",
          "shell.execute_reply": "2024-04-29T18:27:31.907626Z",
          "shell.execute_reply.started": "2024-04-29T18:14:03.311437Z"
        },
        "id": "VQlqCXTPOFBI",
        "trusted": true
      },
      "outputs": [],
      "source": [
        "epochs=8\n",
        "history=model.fit(train_gen,epochs=epochs ,validation_data=valid_gen ,verbose=1)"
      ]
    },
    {
      "cell_type": "code",
      "execution_count": null,
      "metadata": {
        "execution": {
          "iopub.execute_input": "2024-04-29T18:27:31.909962Z",
          "iopub.status.busy": "2024-04-29T18:27:31.909666Z",
          "iopub.status.idle": "2024-04-29T18:27:32.545755Z",
          "shell.execute_reply": "2024-04-29T18:27:32.544889Z",
          "shell.execute_reply.started": "2024-04-29T18:27:31.909931Z"
        },
        "id": "Pq6N6u0_OFBJ",
        "trusted": true
      },
      "outputs": [],
      "source": [
        " tr_acc = history.history['accuracy']\n",
        "tr_loss = history.history['loss']\n",
        "val_acc = history.history['val_accuracy']\n",
        "val_loss = history.history['val_loss']\n",
        "index_loss = np.argmin(val_loss)\n",
        "val_lowest = val_loss[index_loss]\n",
        "index_acc = np.argmax(val_acc)\n",
        "acc_highest = val_acc[index_acc]\n",
        "\n",
        "Epochs = [i+1 for i in range(len(tr_acc))]\n",
        "loss_label = f'best epoch= {str(index_loss + 1)}'\n",
        "acc_label = f'best epoch= {str(index_acc + 1)}'\n",
        "\n",
        "# Plot training history\n",
        "plt.figure(figsize= (20, 8))\n",
        "plt.style.use('fivethirtyeight')\n",
        "\n",
        "plt.subplot(1, 2, 1)\n",
        "plt.plot(Epochs, tr_loss, 'r', label= 'Training loss')\n",
        "plt.plot(Epochs, val_loss, 'g', label= 'Validation loss')\n",
        "plt.scatter(index_loss + 1, val_lowest, s= 150, c= 'blue', label= loss_label)\n",
        "plt.title('Training and Validation Loss')\n",
        "plt.xlabel('Epochs')\n",
        "plt.ylabel('Loss')\n",
        "plt.legend()\n",
        "\n",
        "plt.subplot(1, 2, 2)\n",
        "plt.plot(Epochs, tr_acc, 'r', label= 'Training Accuracy')\n",
        "plt.plot(Epochs, val_acc, 'g', label= 'Validation Accuracy')\n",
        "plt.scatter(index_acc + 1 , acc_highest, s= 150, c= 'blue', label= acc_label)\n",
        "plt.title('Training and Validation Accuracy')\n",
        "plt.xlabel('Epochs')\n",
        "plt.ylabel('Accuracy')\n",
        "plt.legend()\n",
        "\n",
        "plt.tight_layout\n",
        "plt.show()"
      ]
    },
    {
      "cell_type": "code",
      "execution_count": null,
      "metadata": {
        "execution": {
          "iopub.execute_input": "2024-04-29T18:32:07.852275Z",
          "iopub.status.busy": "2024-04-29T18:32:07.851778Z",
          "iopub.status.idle": "2024-04-29T18:33:43.151683Z",
          "shell.execute_reply": "2024-04-29T18:33:43.15084Z",
          "shell.execute_reply.started": "2024-04-29T18:32:07.852243Z"
        },
        "id": "NHx3qZA4OFBJ",
        "trusted": true
      },
      "outputs": [],
      "source": [
        "train_score=model.evaluate(train_gen , verbose=1)\n",
        "valid_score=model.evaluate(valid_gen , verbose=1)\n",
        "test_score=model.evaluate(test_gen , verbose=1)\n",
        "\n",
        "print(\"Train Loss: \", train_score[0])\n",
        "print(\"Train Accuracy: \", train_score[1])\n",
        "print('-' * 20)\n",
        "print(\"valid Loss: \", valid_score[0])\n",
        "print(\"valid Accuracy: \", valid_score[1])\n",
        "print('-' * 20)\n",
        "print(\"test Loss: \", test_score[0])\n",
        "print(\"test Accuracy: \", test_score[1])\n",
        "print('-' * 20)"
      ]
    },
    {
      "cell_type": "code",
      "execution_count": null,
      "metadata": {
        "execution": {
          "iopub.execute_input": "2024-04-29T18:46:25.934555Z",
          "iopub.status.busy": "2024-04-29T18:46:25.93417Z",
          "iopub.status.idle": "2024-04-29T18:46:33.118351Z",
          "shell.execute_reply": "2024-04-29T18:46:33.11753Z",
          "shell.execute_reply.started": "2024-04-29T18:46:25.934528Z"
        },
        "id": "C5qUIUXpOFBK",
        "trusted": true
      },
      "outputs": [],
      "source": [
        "preds = model.predict(test_gen)\n",
        "\n",
        "y_pred = np.argmax(preds , axis = 1)"
      ]
    },
    {
      "cell_type": "code",
      "execution_count": null,
      "metadata": {
        "execution": {
          "iopub.execute_input": "2024-04-29T18:46:48.937193Z",
          "iopub.status.busy": "2024-04-29T18:46:48.936802Z",
          "iopub.status.idle": "2024-04-29T18:46:49.224454Z",
          "shell.execute_reply": "2024-04-29T18:46:49.22351Z",
          "shell.execute_reply.started": "2024-04-29T18:46:48.937163Z"
        },
        "id": "4vk7lC_QOFBL",
        "trusted": true
      },
      "outputs": [],
      "source": [
        "g_dict = test_gen.class_indices\n",
        "classes = list(g_dict.keys())\n",
        "\n",
        "# Confusion matrix\n",
        "cm = confusion_matrix(test_gen.classes, y_pred)\n",
        "\n",
        "plt.figure(figsize= (10, 10))\n",
        "plt.imshow(cm, interpolation= 'nearest', cmap= plt.cm.Blues)\n",
        "plt.title('Confusion Matrix')\n",
        "plt.colorbar()\n",
        "\n",
        "tick_marks = np.arange(len(classes))\n",
        "plt.xticks(tick_marks, classes, rotation= 45)\n",
        "plt.yticks(tick_marks, classes)\n",
        "\n",
        "\n",
        "thresh = cm.max() / 2.\n",
        "for i, j in itertools.product(range(cm.shape[0]), range(cm.shape[1])):\n",
        "    plt.text(j, i, cm[i, j], horizontalalignment= 'center', color= 'white' if cm[i, j] > thresh else 'black')\n",
        "\n",
        "plt.tight_layout()\n",
        "plt.ylabel('True Label')\n",
        "plt.xlabel('Predicted Label')\n",
        "\n",
        "plt.show()"
      ]
    },
    {
      "cell_type": "code",
      "execution_count": null,
      "metadata": {
        "execution": {
          "iopub.execute_input": "2024-04-29T18:47:04.856795Z",
          "iopub.status.busy": "2024-04-29T18:47:04.855925Z",
          "iopub.status.idle": "2024-04-29T18:47:04.872105Z",
          "shell.execute_reply": "2024-04-29T18:47:04.871016Z",
          "shell.execute_reply.started": "2024-04-29T18:47:04.856762Z"
        },
        "id": "UWJLJmIsOFBM",
        "trusted": true
      },
      "outputs": [],
      "source": [
        "print(classification_report(test_gen.classes, y_pred , target_names= classes ))"
      ]
    }
  ],
  "metadata": {
    "colab": {
      "provenance": [],
      "include_colab_link": true
    },
    "kaggle": {
      "accelerator": "gpu",
      "dataSources": [
        {
          "datasetId": 17810,
          "sourceId": 23812,
          "sourceType": "datasetVersion"
        }
      ],
      "dockerImageVersionId": 30664,
      "isGpuEnabled": true,
      "isInternetEnabled": true,
      "language": "python",
      "sourceType": "notebook"
    },
    "kernelspec": {
      "display_name": "Python 3",
      "language": "python",
      "name": "python3"
    },
    "language_info": {
      "codemirror_mode": {
        "name": "ipython",
        "version": 3
      },
      "file_extension": ".py",
      "mimetype": "text/x-python",
      "name": "python",
      "nbconvert_exporter": "python",
      "pygments_lexer": "ipython3",
      "version": "3.10.13"
    }
  },
  "nbformat": 4,
  "nbformat_minor": 0
}